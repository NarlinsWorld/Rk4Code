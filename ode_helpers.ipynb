{
 "cells": [
  {
   "cell_type": "code",
   "execution_count": null,
   "metadata": {},
   "outputs": [],
   "source": [
    "import numpy as np\n",
    "import matplotlib.pyplot as plt\n",
    "\n",
    "def state_plotter(times, states, fig_num):\n",
    "    num_states = np.shape(states)[0]\n",
    "    num_cols = int(np.ceil(np.sqrt(num_states)))\n",
    "    num_rows = int(np.ceil(num_states / num_cols))\n",
    "    plt.figure(fig_num)\n",
    "    plt.clf()\n",
    "    fig, ax = plt.subplots(num_rows, num_cols, num=fig_num, clear=True,\n",
    "                         squeeze=False)\n",
    "    for n in range(num_states):\n",
    "        row = n // num_cols\n",
    "        col = n % num_cols\n",
    "        ax[row][col].plot(times, states[n], 'k.:')\n",
    "        ax[row][col].set(xlabel='Time',\n",
    "                         ylabel='$y_{:0.0f}(t)$'.format(n),\n",
    "                         title='$y_{:0.0f}(t)$ vs. Time'.format(n))\n",
    "        \n",
    "    for n in range(num_states, num_rows * num_cols):\n",
    "        fig.delaxes(ax[n // num_cols][n % num_cols])\n",
    "\n",
    "    fig.tight_layout()"
   ]
  }
 ],
 "metadata": {
  "kernelspec": {
   "display_name": "Python 2",
   "language": "python",
   "name": "python2"
  },
  "language_info": {
   "codemirror_mode": {
    "name": "ipython",
    "version": 2
   },
   "file_extension": ".py",
   "mimetype": "text/x-python",
   "name": "python",
   "nbconvert_exporter": "python",
   "pygments_lexer": "ipython2",
   "version": "2.7.15"
  }
 },
 "nbformat": 4,
 "nbformat_minor": 2
}
