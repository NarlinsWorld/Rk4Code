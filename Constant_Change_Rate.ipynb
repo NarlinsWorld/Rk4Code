{
 "cells": [
  {
   "cell_type": "markdown",
   "metadata": {},
   "source": [
    "This file is from\n",
    "https://pundit.pratt.duke.edu/wiki/Python:Ordinary_Differential_Equations/Examples \n",
    "and had to be tweaked some to run in Jupyter."
   ]
  },
  {
   "cell_type": "markdown",
   "metadata": {},
   "source": [
    "Constant Rate of Change\n",
    "\n",
    "Result using constant rate of change.\n",
    "\n",
    "If the dependent variable has a constant rate of change:\n",
    "$$\\frac{dy}{dt}=C \\tag{1}$$\n",
    "\n",
    "where $C$\n",
    "is some constant, you can provide the differential equation in the f function and then calculate answers using this model with the code below. The code assumes there are 100 evenly spaced times between 0 and 10, the initial value of y is 6, and the rate of change is 1.2: "
   ]
  },
  {
   "cell_type": "code",
   "execution_count": null,
   "metadata": {},
   "outputs": [],
   "source": [
    "# %% Imports\n",
    "import numpy as np\n",
    "import matplotlib.pyplot as plt\n",
    "from scipy.integrate import solve_ivp\n",
    "from scipy import linspace, sin, cos\n",
    "import ode_helpers #contains the function state_plotter and must be in this directory\n",
    "\n",
    "# %% Define independent function and derivative function\n",
    "def f(t, y, c):\n",
    "    dydt = [c[0]]\n",
    "    return dydt\n",
    "\n",
    "# %% Define time spans, initial values, and constants\n",
    "tspan = linspace(0, 10, 101) #start and 0, stop at 10, have 101 incements.\n",
    "yinit = [6]\n",
    "c = [1.2]\n",
    "\n",
    "# %% Solve differential equation\n",
    "sol = solve_ivp(lambda t, y: f(t, y, c), \n",
    "                [tspan[0], tspan[-1]], yinit, t_eval=tspan)\n",
    "print(sol)\n",
    "# %% Plot states\n",
    "state_plotter(sol.t, sol.y, 1)\n",
    "plt.xlabel(\"$t$\")\n",
    "plt.ylabel(\"$y$\")"
   ]
  },
  {
   "cell_type": "code",
   "execution_count": null,
   "metadata": {},
   "outputs": [],
   "source": []
  },
  {
   "cell_type": "code",
   "execution_count": null,
   "metadata": {},
   "outputs": [],
   "source": []
  }
 ],
 "metadata": {
  "kernelspec": {
   "display_name": "p36workshop",
   "language": "python",
   "name": "p36workshop"
  },
  "language_info": {
   "codemirror_mode": {
    "name": "ipython",
    "version": 2
   },
   "file_extension": ".py",
   "mimetype": "text/x-python",
   "name": "python",
   "nbconvert_exporter": "python",
   "pygments_lexer": "ipython2",
   "version": "2.7.15"
  }
 },
 "nbformat": 4,
 "nbformat_minor": 2
}
